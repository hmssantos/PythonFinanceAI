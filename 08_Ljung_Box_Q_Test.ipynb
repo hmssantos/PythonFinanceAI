{
  "nbformat": 4,
  "nbformat_minor": 0,
  "metadata": {
    "colab": {
      "provenance": [],
      "toc_visible": true
    },
    "kernelspec": {
      "name": "python3",
      "display_name": "Python 3"
    },
    "language_info": {
      "name": "python"
    }
  },
  "cells": [
    {
      "cell_type": "markdown",
      "source": [
        "# Ljung-Box Q-Test"
      ],
      "metadata": {
        "id": "PdOm5IaDUxSm"
      }
    },
    {
      "cell_type": "markdown",
      "source": [
        "## Introduction\n",
        "In this notebook, we will extend our previous analysis of autocorrelation in financial time series by incorporating the Ljung-Box Q-test. The Ljung-Box Q-test is a statistical test that checks whether any of a group of autocorrelations of a time series are different from zero. This is particularly useful for identifying serial dependencies in stock returns, which has implications for market efficiency and trading strategies."
      ],
      "metadata": {
        "id": "tP7oGzYzx-Ql"
      }
    },
    {
      "cell_type": "markdown",
      "source": [
        "## 1. Importing Necessary Libraries"
      ],
      "metadata": {
        "id": "16AVzTJKyDLC"
      }
    },
    {
      "cell_type": "code",
      "source": [
        "import yfinance as yf\n",
        "import pandas as pd\n",
        "import numpy as np\n",
        "import matplotlib.pyplot as plt\n",
        "from statsmodels.graphics.tsaplots import plot_acf\n",
        "from statsmodels.stats.diagnostic import acorr_ljungbox"
      ],
      "metadata": {
        "id": "MgGMf4DaySiw"
      },
      "execution_count": 7,
      "outputs": []
    },
    {
      "cell_type": "markdown",
      "source": [
        "## 2. Obtaining the Financial Asset Data\n",
        "\n",
        "Let's choose an asset for analysis. In this case, we will use Apple Inc. (AAPL)."
      ],
      "metadata": {
        "id": "mx2BnOjxyWaU"
      }
    },
    {
      "cell_type": "code",
      "source": [
        "# Define the asset ticker\n",
        "ticker = 'AAPL'\n",
        "\n",
        "# Download the adjusted closing prices of the asset\n",
        "prices = yf.download(ticker)['Adj Close'].tz_localize(None)\n",
        "\n",
        "# View the last few rows of the data\n",
        "prices.tail()"
      ],
      "metadata": {
        "colab": {
          "base_uri": "https://localhost:8080/",
          "height": 291
        },
        "id": "Jgar8T5qyas7",
        "outputId": "f2eb68cf-03e3-4721-833e-030652d8f1b6"
      },
      "execution_count": 2,
      "outputs": [
        {
          "output_type": "stream",
          "name": "stderr",
          "text": [
            "\r[*********************100%***********************]  1 of 1 completed\n"
          ]
        },
        {
          "output_type": "execute_result",
          "data": {
            "text/plain": [
              "Date\n",
              "2024-09-10    220.110001\n",
              "2024-09-11    222.660004\n",
              "2024-09-12    222.770004\n",
              "2024-09-13    222.500000\n",
              "2024-09-16    215.929993\n",
              "Name: Adj Close, dtype: float64"
            ],
            "text/html": [
              "<div>\n",
              "<style scoped>\n",
              "    .dataframe tbody tr th:only-of-type {\n",
              "        vertical-align: middle;\n",
              "    }\n",
              "\n",
              "    .dataframe tbody tr th {\n",
              "        vertical-align: top;\n",
              "    }\n",
              "\n",
              "    .dataframe thead th {\n",
              "        text-align: right;\n",
              "    }\n",
              "</style>\n",
              "<table border=\"1\" class=\"dataframe\">\n",
              "  <thead>\n",
              "    <tr style=\"text-align: right;\">\n",
              "      <th></th>\n",
              "      <th>Adj Close</th>\n",
              "    </tr>\n",
              "    <tr>\n",
              "      <th>Date</th>\n",
              "      <th></th>\n",
              "    </tr>\n",
              "  </thead>\n",
              "  <tbody>\n",
              "    <tr>\n",
              "      <th>2024-09-10</th>\n",
              "      <td>220.110001</td>\n",
              "    </tr>\n",
              "    <tr>\n",
              "      <th>2024-09-11</th>\n",
              "      <td>222.660004</td>\n",
              "    </tr>\n",
              "    <tr>\n",
              "      <th>2024-09-12</th>\n",
              "      <td>222.770004</td>\n",
              "    </tr>\n",
              "    <tr>\n",
              "      <th>2024-09-13</th>\n",
              "      <td>222.500000</td>\n",
              "    </tr>\n",
              "    <tr>\n",
              "      <th>2024-09-16</th>\n",
              "      <td>215.929993</td>\n",
              "    </tr>\n",
              "  </tbody>\n",
              "</table>\n",
              "</div><br><label><b>dtype:</b> float64</label>"
            ]
          },
          "metadata": {},
          "execution_count": 2
        }
      ]
    },
    {
      "cell_type": "markdown",
      "source": [
        "## 3. Calculating Daily Returns\n",
        "To analyze autocorrelation, we will calculate the daily returns of the asset."
      ],
      "metadata": {
        "id": "CX2Rmfsqyq_I"
      }
    },
    {
      "cell_type": "code",
      "source": [
        "# Calculate daily returns\n",
        "returns = prices.pct_change().dropna()\n",
        "\n",
        "# View the first few rows of the returns\n",
        "returns.head()"
      ],
      "metadata": {
        "colab": {
          "base_uri": "https://localhost:8080/",
          "height": 272
        },
        "id": "Pku33-q0ysw8",
        "outputId": "c1df4257-53bd-4854-ad9a-05a538b10b8d"
      },
      "execution_count": 11,
      "outputs": [
        {
          "output_type": "execute_result",
          "data": {
            "text/plain": [
              "Date\n",
              "1980-12-15   -0.053581\n",
              "1980-12-16   -0.076231\n",
              "1980-12-17    0.024450\n",
              "1980-12-18    0.028580\n",
              "1980-12-19    0.059238\n",
              "Name: Adj Close, dtype: float64"
            ],
            "text/html": [
              "<div>\n",
              "<style scoped>\n",
              "    .dataframe tbody tr th:only-of-type {\n",
              "        vertical-align: middle;\n",
              "    }\n",
              "\n",
              "    .dataframe tbody tr th {\n",
              "        vertical-align: top;\n",
              "    }\n",
              "\n",
              "    .dataframe thead th {\n",
              "        text-align: right;\n",
              "    }\n",
              "</style>\n",
              "<table border=\"1\" class=\"dataframe\">\n",
              "  <thead>\n",
              "    <tr style=\"text-align: right;\">\n",
              "      <th></th>\n",
              "      <th>Adj Close</th>\n",
              "    </tr>\n",
              "    <tr>\n",
              "      <th>Date</th>\n",
              "      <th></th>\n",
              "    </tr>\n",
              "  </thead>\n",
              "  <tbody>\n",
              "    <tr>\n",
              "      <th>1980-12-15</th>\n",
              "      <td>-0.053581</td>\n",
              "    </tr>\n",
              "    <tr>\n",
              "      <th>1980-12-16</th>\n",
              "      <td>-0.076231</td>\n",
              "    </tr>\n",
              "    <tr>\n",
              "      <th>1980-12-17</th>\n",
              "      <td>0.024450</td>\n",
              "    </tr>\n",
              "    <tr>\n",
              "      <th>1980-12-18</th>\n",
              "      <td>0.028580</td>\n",
              "    </tr>\n",
              "    <tr>\n",
              "      <th>1980-12-19</th>\n",
              "      <td>0.059238</td>\n",
              "    </tr>\n",
              "  </tbody>\n",
              "</table>\n",
              "</div><br><label><b>dtype:</b> float64</label>"
            ]
          },
          "metadata": {},
          "execution_count": 11
        }
      ]
    },
    {
      "cell_type": "markdown",
      "source": [
        "## 4. Autocorrelation Analysis Over Different Time Periods\n",
        "We will analyze the autocorrelation of returns over the last 12 months, 6 months, and 3 months.\n",
        "\n",
        "First, we will define the time periods."
      ],
      "metadata": {
        "id": "xclahdGmyxvt"
      }
    },
    {
      "cell_type": "code",
      "source": [
        "# Get the current date\n",
        "end_date = returns.index.max()\n",
        "\n",
        "# Define periods\n",
        "periods = {\n",
        "    'Last 12 Months': end_date - pd.DateOffset(months=12),\n",
        "    'Last 6 Months': end_date - pd.DateOffset(months=6),\n",
        "    'Last 3 Months': end_date - pd.DateOffset(months=3)\n",
        "}"
      ],
      "metadata": {
        "id": "u3VSV5531Ifo"
      },
      "execution_count": 4,
      "outputs": []
    },
    {
      "cell_type": "markdown",
      "source": [
        "### 4.1. Plotting the Autocorrelation Function\n",
        "We will plot the autocorrelation functions for each period in subplots."
      ],
      "metadata": {
        "id": "-b4FUpIJy1Bl"
      }
    },
    {
      "cell_type": "code",
      "source": [
        "# Define the number of lags\n",
        "num_lags = 30\n",
        "\n",
        "# Create subplots\n",
        "fig, axes = plt.subplots(1, 3, figsize=(18, 5))\n",
        "\n",
        "# Iterate over periods and axes\n",
        "for ax, (title, start_date) in zip(axes, periods.items()):\n",
        "    # Slice the returns for the given period\n",
        "    period_returns = returns.loc[start_date:end_date]\n",
        "\n",
        "    # Plot the autocorrelation function\n",
        "    plot_acf(period_returns, lags=num_lags, ax=ax)\n",
        "    ax.set_title(f'Autocorrelation Function\\n{title}')\n",
        "    ax.set_xlabel('Lags')\n",
        "    ax.set_ylabel('Autocorrelation')\n",
        "\n",
        "plt.tight_layout()\n",
        "plt.show()"
      ],
      "metadata": {
        "colab": {
          "base_uri": "https://localhost:8080/",
          "height": 454
        },
        "id": "0dUIyGD0y3Ts",
        "outputId": "71de4871-a8e7-4eaa-dc5b-624dbcf441e3"
      },
      "execution_count": 5,
      "outputs": [
        {
          "output_type": "display_data",
          "data": {
            "text/plain": [
              "<Figure size 1800x500 with 3 Axes>"
            ],
            "image/png": "[encoded data removed]"
          },
          "metadata": {}
        }
      ]
    },
    {
      "cell_type": "markdown",
      "source": [
        "## 5. Ljung-Box Q-Test\n",
        "The Ljung-Box Q-test helps determine whether a series of autocorrelations are jointly zero."
      ],
      "metadata": {
        "id": "8NNBEnAUgDSF"
      }
    },
    {
      "cell_type": "markdown",
      "source": [
        "### 5.1. Performing the Ljung-Box Q-Test\n",
        "We will perform the Ljung-Box Q-test for each period and interpret the results."
      ],
      "metadata": {
        "id": "CDFuO5vwgN_I"
      }
    },
    {
      "cell_type": "code",
      "source": [
        "# Initialize a dictionary to hold the test results\n",
        "ljung_box_results = {}\n",
        "\n",
        "# Significance level\n",
        "alpha = 0.05\n",
        "\n",
        "# Perform Ljung-Box Q-Test for each period\n",
        "for title, start_date in periods.items():\n",
        "    # Slice the returns for the given period\n",
        "    period_returns = returns.loc[start_date:end_date]\n",
        "\n",
        "    # Perform the Ljung-Box test\n",
        "    lb_test = acorr_ljungbox(period_returns, lags=num_lags, return_df=True)\n",
        "\n",
        "    # Add to the dictionary\n",
        "    ljung_box_results[title] = lb_test\n",
        "\n",
        "    # Display the results\n",
        "    print(f\"Ljung-Box Q-Test Results for {title}:\\n\")\n",
        "    print(lb_test)\n",
        "    print(\"\\n\")"
      ],
      "metadata": {
        "colab": {
          "base_uri": "https://localhost:8080/"
        },
        "id": "Q8XMaUstgRBy",
        "outputId": "6ed965fd-c23b-40fa-d307-aee41b1a42b8"
      },
      "execution_count": 8,
      "outputs": [
        {
          "output_type": "stream",
          "name": "stdout",
          "text": [
            "Ljung-Box Q-Test Results for Last 12 Months:\n",
            "\n",
            "      lb_stat  lb_pvalue\n",
            "1    1.255442   0.262516\n",
            "2    1.262044   0.532048\n",
            "3    1.275729   0.734904\n",
            "4    2.073704   0.722205\n",
            "5    3.723870   0.589816\n",
            "6    3.857364   0.695972\n",
            "7    3.969060   0.783334\n",
            "8    3.972504   0.859596\n",
            "9    4.287177   0.891515\n",
            "10   4.319925   0.931763\n",
            "11   5.862491   0.882380\n",
            "12   5.882599   0.921884\n",
            "13   5.888432   0.950119\n",
            "14  10.142760   0.751673\n",
            "15  10.336815   0.798036\n",
            "16  10.398155   0.845025\n",
            "17  10.569320   0.878057\n",
            "18  10.605445   0.910344\n",
            "19  12.249693   0.874677\n",
            "20  12.431012   0.900443\n",
            "21  12.697382   0.918853\n",
            "22  15.438628   0.842737\n",
            "23  15.454347   0.877614\n",
            "24  15.571233   0.902927\n",
            "25  16.226624   0.907913\n",
            "26  17.833362   0.881752\n",
            "27  18.251718   0.895638\n",
            "28  18.286643   0.918699\n",
            "29  18.772169   0.926991\n",
            "30  18.778554   0.944523\n",
            "\n",
            "\n",
            "Ljung-Box Q-Test Results for Last 6 Months:\n",
            "\n",
            "      lb_stat  lb_pvalue\n",
            "1    0.040216   0.841060\n",
            "2    0.173442   0.916933\n",
            "3    0.745851   0.862370\n",
            "4    1.740690   0.783314\n",
            "5    2.613209   0.759357\n",
            "6    2.618106   0.855023\n",
            "7    2.784585   0.904189\n",
            "8    3.126319   0.926182\n",
            "9    3.691238   0.930535\n",
            "10   4.039988   0.945525\n",
            "11   4.056959   0.968221\n",
            "12   4.061317   0.982304\n",
            "13   4.081018   0.990299\n",
            "14   9.244931   0.815047\n",
            "15   9.963922   0.822003\n",
            "16   9.976485   0.867853\n",
            "17   9.994341   0.903847\n",
            "18  10.217179   0.924586\n",
            "19  10.300963   0.945127\n",
            "20  10.393585   0.960461\n",
            "21  10.635403   0.969425\n",
            "22  11.131316   0.972825\n",
            "23  12.195994   0.967335\n",
            "24  12.306581   0.976229\n",
            "25  13.765443   0.965668\n",
            "26  15.159773   0.954342\n",
            "27  16.617295   0.940140\n",
            "28  16.983700   0.948910\n",
            "29  20.217324   0.886043\n",
            "30  20.410547   0.905411\n",
            "\n",
            "\n",
            "Ljung-Box Q-Test Results for Last 3 Months:\n",
            "\n",
            "      lb_stat  lb_pvalue\n",
            "1    0.535303   0.464386\n",
            "2    0.578348   0.748882\n",
            "3    0.694053   0.874602\n",
            "4    0.695277   0.951910\n",
            "5    0.900160   0.970210\n",
            "6    1.149192   0.979320\n",
            "7    2.501957   0.926950\n",
            "8    2.551029   0.959309\n",
            "9    3.009040   0.963935\n",
            "10   4.456776   0.924398\n",
            "11   6.412718   0.844457\n",
            "12   7.306813   0.836690\n",
            "13   7.551507   0.871543\n",
            "14  10.258442   0.743055\n",
            "15  11.890942   0.687264\n",
            "16  23.104672   0.110965\n",
            "17  23.735204   0.126810\n",
            "18  23.805135   0.161516\n",
            "19  23.819289   0.203176\n",
            "20  23.940748   0.244990\n",
            "21  24.872300   0.252737\n",
            "22  25.120888   0.291329\n",
            "23  25.257443   0.337150\n",
            "24  25.339491   0.387504\n",
            "25  25.408179   0.439695\n",
            "26  25.672935   0.481191\n",
            "27  25.738165   0.533166\n",
            "28  25.973311   0.574512\n",
            "29  31.087854   0.361294\n",
            "30  33.299661   0.309686\n",
            "\n",
            "\n"
          ]
        }
      ]
    },
    {
      "cell_type": "markdown",
      "source": [
        "### 5.2. Interpreting the Results\n",
        "For each lag, if the p-value is less than the significance level (0.05), we reject the null hypothesis that there is no autocorrelation up to that lag."
      ],
      "metadata": {
        "id": "Bz_TDfovgb61"
      }
    },
    {
      "cell_type": "code",
      "source": [
        "# Interpret the results\n",
        "for title, lb_test in ljung_box_results.items():\n",
        "    print(f\"Interpretation for {title}:\\n\")\n",
        "    for lag in range(1, num_lags + 1):\n",
        "        p_value = lb_test['lb_pvalue'].iloc[lag - 1]\n",
        "        if p_value < alpha:\n",
        "            print(f\"At lag {lag}, p-value = {p_value:.4f} < {alpha}, reject null hypothesis of no autocorrelation.\")\n",
        "        else:\n",
        "            print(f\"At lag {lag}, p-value = {p_value:.4f} >= {alpha}, fail to reject null hypothesis.\")\n",
        "    print(\"\\n\")"
      ],
      "metadata": {
        "colab": {
          "base_uri": "https://localhost:8080/"
        },
        "id": "O-gEdrvvgbNp",
        "outputId": "5edf41f1-b54a-4ea5-b9ce-908af0a05939"
      },
      "execution_count": 10,
      "outputs": [
        {
          "output_type": "stream",
          "name": "stdout",
          "text": [
            "Interpretation for Last 12 Months:\n",
            "\n",
            "At lag 1, p-value = 0.2625 >= 0.05, fail to reject null hypothesis.\n",
            "At lag 2, p-value = 0.5320 >= 0.05, fail to reject null hypothesis.\n",
            "At lag 3, p-value = 0.7349 >= 0.05, fail to reject null hypothesis.\n",
            "At lag 4, p-value = 0.7222 >= 0.05, fail to reject null hypothesis.\n",
            "At lag 5, p-value = 0.5898 >= 0.05, fail to reject null hypothesis.\n",
            "At lag 6, p-value = 0.6960 >= 0.05, fail to reject null hypothesis.\n",
            "At lag 7, p-value = 0.7833 >= 0.05, fail to reject null hypothesis.\n",
            "At lag 8, p-value = 0.8596 >= 0.05, fail to reject null hypothesis.\n",
            "At lag 9, p-value = 0.8915 >= 0.05, fail to reject null hypothesis.\n",
            "At lag 10, p-value = 0.9318 >= 0.05, fail to reject null hypothesis.\n",
            "At lag 11, p-value = 0.8824 >= 0.05, fail to reject null hypothesis.\n",
            "At lag 12, p-value = 0.9219 >= 0.05, fail to reject null hypothesis.\n",
            "At lag 13, p-value = 0.9501 >= 0.05, fail to reject null hypothesis.\n",
            "At lag 14, p-value = 0.7517 >= 0.05, fail to reject null hypothesis.\n",
            "At lag 15, p-value = 0.7980 >= 0.05, fail to reject null hypothesis.\n",
            "At lag 16, p-value = 0.8450 >= 0.05, fail to reject null hypothesis.\n",
            "At lag 17, p-value = 0.8781 >= 0.05, fail to reject null hypothesis.\n",
            "At lag 18, p-value = 0.9103 >= 0.05, fail to reject null hypothesis.\n",
            "At lag 19, p-value = 0.8747 >= 0.05, fail to reject null hypothesis.\n",
            "At lag 20, p-value = 0.9004 >= 0.05, fail to reject null hypothesis.\n",
            "At lag 21, p-value = 0.9189 >= 0.05, fail to reject null hypothesis.\n",
            "At lag 22, p-value = 0.8427 >= 0.05, fail to reject null hypothesis.\n",
            "At lag 23, p-value = 0.8776 >= 0.05, fail to reject null hypothesis.\n",
            "At lag 24, p-value = 0.9029 >= 0.05, fail to reject null hypothesis.\n",
            "At lag 25, p-value = 0.9079 >= 0.05, fail to reject null hypothesis.\n",
            "At lag 26, p-value = 0.8818 >= 0.05, fail to reject null hypothesis.\n",
            "At lag 27, p-value = 0.8956 >= 0.05, fail to reject null hypothesis.\n",
            "At lag 28, p-value = 0.9187 >= 0.05, fail to reject null hypothesis.\n",
            "At lag 29, p-value = 0.9270 >= 0.05, fail to reject null hypothesis.\n",
            "At lag 30, p-value = 0.9445 >= 0.05, fail to reject null hypothesis.\n",
            "\n",
            "\n",
            "Interpretation for Last 6 Months:\n",
            "\n",
            "At lag 1, p-value = 0.8411 >= 0.05, fail to reject null hypothesis.\n",
            "At lag 2, p-value = 0.9169 >= 0.05, fail to reject null hypothesis.\n",
            "At lag 3, p-value = 0.8624 >= 0.05, fail to reject null hypothesis.\n",
            "At lag 4, p-value = 0.7833 >= 0.05, fail to reject null hypothesis.\n",
            "At lag 5, p-value = 0.7594 >= 0.05, fail to reject null hypothesis.\n",
            "At lag 6, p-value = 0.8550 >= 0.05, fail to reject null hypothesis.\n",
            "At lag 7, p-value = 0.9042 >= 0.05, fail to reject null hypothesis.\n",
            "At lag 8, p-value = 0.9262 >= 0.05, fail to reject null hypothesis.\n",
            "At lag 9, p-value = 0.9305 >= 0.05, fail to reject null hypothesis.\n",
            "At lag 10, p-value = 0.9455 >= 0.05, fail to reject null hypothesis.\n",
            "At lag 11, p-value = 0.9682 >= 0.05, fail to reject null hypothesis.\n",
            "At lag 12, p-value = 0.9823 >= 0.05, fail to reject null hypothesis.\n",
            "At lag 13, p-value = 0.9903 >= 0.05, fail to reject null hypothesis.\n",
            "At lag 14, p-value = 0.8150 >= 0.05, fail to reject null hypothesis.\n",
            "At lag 15, p-value = 0.8220 >= 0.05, fail to reject null hypothesis.\n",
            "At lag 16, p-value = 0.8679 >= 0.05, fail to reject null hypothesis.\n",
            "At lag 17, p-value = 0.9038 >= 0.05, fail to reject null hypothesis.\n",
            "At lag 18, p-value = 0.9246 >= 0.05, fail to reject null hypothesis.\n",
            "At lag 19, p-value = 0.9451 >= 0.05, fail to reject null hypothesis.\n",
            "At lag 20, p-value = 0.9605 >= 0.05, fail to reject null hypothesis.\n",
            "At lag 21, p-value = 0.9694 >= 0.05, fail to reject null hypothesis.\n",
            "At lag 22, p-value = 0.9728 >= 0.05, fail to reject null hypothesis.\n",
            "At lag 23, p-value = 0.9673 >= 0.05, fail to reject null hypothesis.\n",
            "At lag 24, p-value = 0.9762 >= 0.05, fail to reject null hypothesis.\n",
            "At lag 25, p-value = 0.9657 >= 0.05, fail to reject null hypothesis.\n",
            "At lag 26, p-value = 0.9543 >= 0.05, fail to reject null hypothesis.\n",
            "At lag 27, p-value = 0.9401 >= 0.05, fail to reject null hypothesis.\n",
            "At lag 28, p-value = 0.9489 >= 0.05, fail to reject null hypothesis.\n",
            "At lag 29, p-value = 0.8860 >= 0.05, fail to reject null hypothesis.\n",
            "At lag 30, p-value = 0.9054 >= 0.05, fail to reject null hypothesis.\n",
            "\n",
            "\n",
            "Interpretation for Last 3 Months:\n",
            "\n",
            "At lag 1, p-value = 0.4644 >= 0.05, fail to reject null hypothesis.\n",
            "At lag 2, p-value = 0.7489 >= 0.05, fail to reject null hypothesis.\n",
            "At lag 3, p-value = 0.8746 >= 0.05, fail to reject null hypothesis.\n",
            "At lag 4, p-value = 0.9519 >= 0.05, fail to reject null hypothesis.\n",
            "At lag 5, p-value = 0.9702 >= 0.05, fail to reject null hypothesis.\n",
            "At lag 6, p-value = 0.9793 >= 0.05, fail to reject null hypothesis.\n",
            "At lag 7, p-value = 0.9269 >= 0.05, fail to reject null hypothesis.\n",
            "At lag 8, p-value = 0.9593 >= 0.05, fail to reject null hypothesis.\n",
            "At lag 9, p-value = 0.9639 >= 0.05, fail to reject null hypothesis.\n",
            "At lag 10, p-value = 0.9244 >= 0.05, fail to reject null hypothesis.\n",
            "At lag 11, p-value = 0.8445 >= 0.05, fail to reject null hypothesis.\n",
            "At lag 12, p-value = 0.8367 >= 0.05, fail to reject null hypothesis.\n",
            "At lag 13, p-value = 0.8715 >= 0.05, fail to reject null hypothesis.\n",
            "At lag 14, p-value = 0.7431 >= 0.05, fail to reject null hypothesis.\n",
            "At lag 15, p-value = 0.6873 >= 0.05, fail to reject null hypothesis.\n",
            "At lag 16, p-value = 0.1110 >= 0.05, fail to reject null hypothesis.\n",
            "At lag 17, p-value = 0.1268 >= 0.05, fail to reject null hypothesis.\n",
            "At lag 18, p-value = 0.1615 >= 0.05, fail to reject null hypothesis.\n",
            "At lag 19, p-value = 0.2032 >= 0.05, fail to reject null hypothesis.\n",
            "At lag 20, p-value = 0.2450 >= 0.05, fail to reject null hypothesis.\n",
            "At lag 21, p-value = 0.2527 >= 0.05, fail to reject null hypothesis.\n",
            "At lag 22, p-value = 0.2913 >= 0.05, fail to reject null hypothesis.\n",
            "At lag 23, p-value = 0.3371 >= 0.05, fail to reject null hypothesis.\n",
            "At lag 24, p-value = 0.3875 >= 0.05, fail to reject null hypothesis.\n",
            "At lag 25, p-value = 0.4397 >= 0.05, fail to reject null hypothesis.\n",
            "At lag 26, p-value = 0.4812 >= 0.05, fail to reject null hypothesis.\n",
            "At lag 27, p-value = 0.5332 >= 0.05, fail to reject null hypothesis.\n",
            "At lag 28, p-value = 0.5745 >= 0.05, fail to reject null hypothesis.\n",
            "At lag 29, p-value = 0.3613 >= 0.05, fail to reject null hypothesis.\n",
            "At lag 30, p-value = 0.3097 >= 0.05, fail to reject null hypothesis.\n",
            "\n",
            "\n"
          ]
        }
      ]
    }
  ]
}